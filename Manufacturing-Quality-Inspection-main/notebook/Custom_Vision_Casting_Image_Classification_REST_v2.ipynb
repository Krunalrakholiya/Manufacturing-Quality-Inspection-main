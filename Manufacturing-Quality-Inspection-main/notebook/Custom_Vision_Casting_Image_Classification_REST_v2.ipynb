{
 "cells": [
  {
   "cell_type": "code",
   "execution_count": 1,
   "metadata": {},
   "outputs": [],
   "source": [
    "########### Test out the Classification Endpoint #############\n",
    "import json\n",
    "import time\n",
    "from requests import get, post\n",
    "import credential\n",
    "\n",
    "endpoint = r\"https://southcentralus.api.cognitive.microsoft.com/customvision/v3.0/Prediction/68811b91-d8b6-473b-9e8d-add2a1167824\"\n",
    "post_url = endpoint + \"/classify/iterations/Casting_Classification_model_v1/image\"\n",
    "source = \"C:/Users/rabiswas/Documents/Personal/Bellevue/DSC630_PredictiveAnalytics/CourseProject/castingdata/casting_dataset/ok_front/cast_ok_0_7588.jpeg\"\n",
    "pred_key = credential.login['pred_key']"
   ]
  },
  {
   "cell_type": "code",
   "execution_count": 2,
   "metadata": {},
   "outputs": [],
   "source": [
    "headers = {\n",
    "    # Request headers\n",
    "    'Content-Type': 'application/octet-stream',\n",
    "    'Prediction-Key': pred_key,\n",
    "}\n",
    "\n",
    "with open(source, \"rb\") as f:\n",
    "    data_bytes = f.read()"
   ]
  },
  {
   "cell_type": "code",
   "execution_count": 3,
   "metadata": {},
   "outputs": [
    {
     "name": "stdout",
     "output_type": "stream",
     "text": [
      "200\n",
      "POST analyze succeeded:\n",
      "{'Content-Length': '395', 'Content-Type': 'application/json; charset=utf-8', 'request-id': 'cc351e68-969c-4335-80b2-e06f1385a0a8', 'x-envoy-upstream-service-time': '1832', 'apim-request-id': 'cc351e68-969c-4335-80b2-e06f1385a0a8', 'Strict-Transport-Security': 'max-age=31536000; includeSubDomains; preload', 'x-content-type-options': 'nosniff', 'Date': 'Fri, 06 Aug 2021 21:53:15 GMT'}\n"
     ]
    }
   ],
   "source": [
    "try:\n",
    "    resp = post(url = post_url, data = data_bytes, headers = headers)\n",
    "    print(resp.status_code)\n",
    "    print(\"POST analyze succeeded:\\n%s\" % resp.headers)\n",
    "except Exception as e:\n",
    "    print(\"POST analyze failed:\\n%s\" % str(e))\n",
    "    quit()"
   ]
  },
  {
   "cell_type": "code",
   "execution_count": 4,
   "metadata": {},
   "outputs": [
    {
     "data": {
      "text/plain": [
       "{'id': 'cc351e68-969c-4335-80b2-e06f1385a0a8',\n",
       " 'project': '68811b91-d8b6-473b-9e8d-add2a1167824',\n",
       " 'iteration': '4db2ae92-5bfc-4078-8d59-74d4bbe2ea07',\n",
       " 'created': '2021-08-06T21:53:15.440Z',\n",
       " 'predictions': [{'probability': 0.9438034,\n",
       "   'tagId': '6f500ad1-6324-4b6b-ad66-3aadb1be79d9',\n",
       "   'tagName': 'ok_front'},\n",
       "  {'probability': 0.056196548,\n",
       "   'tagId': 'b9202d30-c493-4c8e-8912-46a29d56205e',\n",
       "   'tagName': 'defective_front'}]}"
      ]
     },
     "execution_count": 4,
     "metadata": {},
     "output_type": "execute_result"
    }
   ],
   "source": [
    "resp_json = json.loads(resp.text)\n",
    "resp_json"
   ]
  },
  {
   "cell_type": "code",
   "execution_count": 5,
   "metadata": {},
   "outputs": [
    {
     "name": "stdout",
     "output_type": "stream",
     "text": [
      "Print each key-value pair from JSON response\n",
      "id : cc351e68-969c-4335-80b2-e06f1385a0a8\n",
      "project : 68811b91-d8b6-473b-9e8d-add2a1167824\n",
      "iteration : 4db2ae92-5bfc-4078-8d59-74d4bbe2ea07\n",
      "created : 2021-08-06T21:53:15.440Z\n",
      "predictions : [{'probability': 0.9438034, 'tagId': '6f500ad1-6324-4b6b-ad66-3aadb1be79d9', 'tagName': 'ok_front'}, {'probability': 0.056196548, 'tagId': 'b9202d30-c493-4c8e-8912-46a29d56205e', 'tagName': 'defective_front'}]\n"
     ]
    }
   ],
   "source": [
    "print(\"Print each key-value pair from JSON response\")\n",
    "for key, value in resp_json.items():\n",
    "    print(key, \":\", value)"
   ]
  },
  {
   "cell_type": "code",
   "execution_count": 6,
   "metadata": {},
   "outputs": [],
   "source": [
    "def parseClassificationResults(resp_json):\n",
    "    predResults = resp_json[\"predictions\"]\n",
    "    if predResults[1][\"probability\"] <= predResults[0][\"probability\"]:\n",
    "        return \"OK CAST\"\n",
    "    else:\n",
    "        return \"DEFECTIVE CAST\"\n",
    "    return None"
   ]
  },
  {
   "cell_type": "code",
   "execution_count": 7,
   "metadata": {},
   "outputs": [
    {
     "data": {
      "text/plain": [
       "'OK CAST'"
      ]
     },
     "execution_count": 7,
     "metadata": {},
     "output_type": "execute_result"
    }
   ],
   "source": [
    "parseClassificationResults(resp_json)"
   ]
  },
  {
   "cell_type": "code",
   "execution_count": null,
   "metadata": {},
   "outputs": [],
   "source": []
  }
 ],
 "metadata": {
  "kernelspec": {
   "display_name": "Python 3",
   "language": "python",
   "name": "python3"
  },
  "language_info": {
   "codemirror_mode": {
    "name": "ipython",
    "version": 3
   },
   "file_extension": ".py",
   "mimetype": "text/x-python",
   "name": "python",
   "nbconvert_exporter": "python",
   "pygments_lexer": "ipython3",
   "version": "3.8.6"
  }
 },
 "nbformat": 4,
 "nbformat_minor": 4
}
